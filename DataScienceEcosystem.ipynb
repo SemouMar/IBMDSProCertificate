{
 "cells": [
  {
   "metadata": {},
   "cell_type": "markdown",
   "source": "# Data Science Tools and Ecosystem",
   "id": "4d2bbb1f2885c2b8"
  },
  {
   "metadata": {},
   "cell_type": "markdown",
   "source": "This is a notebook showcasing several data science tools and ecosystems.",
   "id": "7b979c786295f6f2"
  },
  {
   "metadata": {},
   "cell_type": "markdown",
   "source": [
    " **Objectives:**\n",
    "- List some popular programming language for data science\n",
    "- List some popular libraries for data science\n",
    "- List some popular tools used by data scientist\n",
    "- Show some basic calculations using python"
   ],
   "id": "d0745e03ce16d09d"
  },
  {
   "metadata": {},
   "cell_type": "markdown",
   "source": [
    "A few popular Programming language used in data science are:\n",
    "1. Python\n",
    "2. R\n",
    "3. Julia"
   ],
   "id": "7b50bad6e1bbd799"
  },
  {
   "metadata": {},
   "cell_type": "markdown",
   "source": [
    "Some popular libraries used by data scientist are:\n",
    "1. Pandas\n",
    "2. Matplotlib\n",
    "3. Numpy"
   ],
   "id": "a0e150fb2c57f9f5"
  },
  {
   "metadata": {},
   "cell_type": "markdown",
   "source": [
    "A Few tools used in data science are:\n",
    "|Data Science Tools |\n",
    "|------|\n",
    "|Jupyter Lab|\n",
    "|Google Colab|\n",
    "|VS code |"
   ],
   "id": "80add601b1d75852"
  },
  {
   "metadata": {},
   "cell_type": "markdown",
   "source": "### Exemples on using python to evaluate arithmetic expressions",
   "id": "f7c68483924c61d9"
  },
  {
   "metadata": {
    "ExecuteTime": {
     "end_time": "2025-08-04T00:13:20.649466Z",
     "start_time": "2025-08-04T00:13:20.634519Z"
    }
   },
   "cell_type": "code",
   "source": [
    "# This is a simple expressions to multiply then add integers\n",
    "(3 * 4) + 5"
   ],
   "id": "9d365bc0e1a75b4c",
   "outputs": [
    {
     "data": {
      "text/plain": [
       "17"
      ]
     },
     "execution_count": 1,
     "metadata": {},
     "output_type": "execute_result"
    }
   ],
   "execution_count": 1
  },
  {
   "metadata": {
    "ExecuteTime": {
     "end_time": "2025-08-04T00:13:20.717178Z",
     "start_time": "2025-08-04T00:13:20.711497Z"
    }
   },
   "cell_type": "code",
   "source": [
    "# This cell convert minutes into hours\n",
    "200 / 60"
   ],
   "id": "7292a82236cbeefb",
   "outputs": [
    {
     "data": {
      "text/plain": [
       "3.3333333333333335"
      ]
     },
     "execution_count": 2,
     "metadata": {},
     "output_type": "execute_result"
    }
   ],
   "execution_count": 2
  },
  {
   "metadata": {},
   "cell_type": "markdown",
   "source": [
    "## Author\n",
    "Semou Mar"
   ],
   "id": "698f0393904ff48"
  }
 ],
 "metadata": {
  "kernelspec": {
   "display_name": "Python [conda env:base] *",
   "language": "python",
   "name": "conda-base-py"
  },
  "language_info": {
   "codemirror_mode": {
    "name": "ipython",
    "version": 2
   },
   "file_extension": ".py",
   "mimetype": "text/x-python",
   "name": "python",
   "nbconvert_exporter": "python",
   "pygments_lexer": "ipython2",
   "version": "2.7.6"
  }
 },
 "nbformat": 4,
 "nbformat_minor": 5
}
